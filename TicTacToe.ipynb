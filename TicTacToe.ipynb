{
 "cells": [
  {
   "cell_type": "code",
   "execution_count": 9,
   "metadata": {},
   "outputs": [],
   "source": [
    "from IPython.display import clear_output\n",
    "state = [\" \"] * 10\n",
    "win_state=[[1,2,3],[4,5,6],[7,8,9],[1,4,7],[2,5,8],[3,6,9],[1,5,9],[3,5,7]]"
   ]
  },
  {
   "cell_type": "code",
   "execution_count": 10,
   "metadata": {},
   "outputs": [],
   "source": [
    "def show_board(state):\n",
    "    clear_output()\n",
    "    print(\" \")\n",
    "    print(state[1] + '|' + state[2] + '|' + state[3])\n",
    "    print('-----')\n",
    "    print(state[4] + '|' + state[5] + '|' + state[6])\n",
    "    print('-----')\n",
    "    print(state[7] + '|' + state[8] + '|' + state[9])\n",
    "    print (\" \")"
   ]
  },
  {
   "cell_type": "code",
   "execution_count": 11,
   "metadata": {},
   "outputs": [],
   "source": [
    "def check_win(player,state):\n",
    "    for check in win_state:\n",
    "        if state[check[0]]==player and state[check[1]]==player and state[check[2]]==player:\n",
    "            return player\n",
    "    return ' '"
   ]
  },
  {
   "cell_type": "code",
   "execution_count": 12,
   "metadata": {},
   "outputs": [],
   "source": [
    "def play_step(player,state):\n",
    "    pos=int(input (\"Player \" + player +\" GO...\"))\n",
    "    print(pos)\n",
    "    if pos > 9 or pos <1 or state[pos] != ' ':\n",
    "        print(\"INVALID ENTRY! TRY AGAIN.\")\n",
    "        play_step(player,state)\n",
    "    else:\n",
    "        state[pos]=player\n",
    "        return 0"
   ]
  },
  {
   "cell_type": "code",
   "execution_count": 13,
   "metadata": {},
   "outputs": [],
   "source": [
    "def clear_board():\n",
    "    global state\n",
    "    state = [\" \"] * 10"
   ]
  },
  {
   "cell_type": "code",
   "execution_count": 14,
   "metadata": {},
   "outputs": [],
   "source": [
    "def switch_player(player):\n",
    "    if player=='X':\n",
    "        player='O'\n",
    "    else:\n",
    "        player='X'\n",
    "    return player"
   ]
  },
  {
   "cell_type": "code",
   "execution_count": 23,
   "metadata": {},
   "outputs": [],
   "source": [
    "def play_again():\n",
    "    while True:\n",
    "        again = input(\"DO YOU WANT TO PLAY AGAIN (Y/N): \").upper()\n",
    "        if again == 'Y':\n",
    "            start_game()\n",
    "        elif again=='N':\n",
    "            break\n",
    "        else:\n",
    "            print(\"Please type Y/N\")"
   ]
  },
  {
   "cell_type": "code",
   "execution_count": 24,
   "metadata": {},
   "outputs": [],
   "source": [
    "def start_game():\n",
    "    global state\n",
    "    while True:\n",
    "        player=input (\"WHO WANTS TO PLAY FIRST (X/O):\").upper()\n",
    "        if player != 'X' and player !='O':\n",
    "            print(\"Please type X or O\")\n",
    "        else:\n",
    "            break\n",
    "    clear_board()\n",
    "    step=1\n",
    "    while step < 10:\n",
    "        show_board(state)\n",
    "        play_step(player,state)\n",
    "        if check_win(player,state) != ' ':\n",
    "            show_board(state)\n",
    "            print (\"HOORAY, WIN TO PLAYER \" + player)\n",
    "            play_again()\n",
    "            break\n",
    "        else:\n",
    "            if step==9:\n",
    "                show_board(state)\n",
    "                print (\"GAME OVER. NOBODY WON\")\n",
    "                play_again()\n",
    "            player=switch_player(player)\n",
    "            step+=1"
   ]
  },
  {
   "cell_type": "code",
   "execution_count": null,
   "metadata": {},
   "outputs": [
    {
     "name": "stdout",
     "output_type": "stream",
     "text": [
      " \n",
      "O|X|X\n",
      "-----\n",
      "X|O|O\n",
      "-----\n",
      "O|O|X\n",
      " \n",
      "GAME OVER. NOBODY WON\n",
      "DO YOU WANT TO PLAY AGAIN (Y/N): m\n",
      "Please type Y/N\n"
     ]
    }
   ],
   "source": [
    "start_game()"
   ]
  },
  {
   "cell_type": "markdown",
   "metadata": {},
   "source": []
  },
  {
   "cell_type": "code",
   "execution_count": null,
   "metadata": {},
   "outputs": [],
   "source": []
  }
 ],
 "metadata": {
  "kernelspec": {
   "display_name": "Python 3",
   "language": "python",
   "name": "python3"
  },
  "language_info": {
   "codemirror_mode": {
    "name": "ipython",
    "version": 3
   },
   "file_extension": ".py",
   "mimetype": "text/x-python",
   "name": "python",
   "nbconvert_exporter": "python",
   "pygments_lexer": "ipython3",
   "version": "3.7.1"
  }
 },
 "nbformat": 4,
 "nbformat_minor": 2
}
